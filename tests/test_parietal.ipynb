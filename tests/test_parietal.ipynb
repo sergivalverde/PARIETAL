{
 "cells": [
  {
   "cell_type": "markdown",
   "metadata": {},
   "source": [
    "# Test PARIETAL\n",
    "\n",
    "Test the usability of the Brain Extraction utility PARIETAL. "
   ]
  },
  {
   "cell_type": "code",
   "execution_count": 1,
   "metadata": {},
   "outputs": [],
   "source": [
    "import sys\n",
    "sys.path.append('..')\n",
    "import ants\n",
    "import time\n",
    "from brain_extraction import BrainExtraction"
   ]
  },
  {
   "cell_type": "markdown",
   "metadata": {},
   "source": [
    "## Object creation\n",
    "\n",
    "Create a new `BrainExtraction` object with no options. By default, the method is configured using the `config.cfg` file at `config/config.cfg`:\n",
    "\n",
    "```python\n",
    "[data]\n",
    "normalize = True\n",
    "out_threshold = 0.5\n",
    "workers = 10\n",
    "\n",
    "[model]\n",
    "model_name = campinas_baseline_s2_multires\n",
    "sampling_step = 16\n",
    "patch_shape = 32\n",
    "use_gpu = True\n",
    "gpu_number = 0\n",
    "```\n"
   ]
  },
  {
   "cell_type": "code",
   "execution_count": null,
   "metadata": {},
   "outputs": [],
   "source": [
    "b = BrainExtraction()"
   ]
  },
  {
   "cell_type": "code",
   "execution_count": 2,
   "metadata": {},
   "outputs": [],
   "source": [
    "b = BrainExtraction(normalize=True,\n",
    "                   threshold=0.5,\n",
    "                   gpu_number=1)"
   ]
  },
  {
   "cell_type": "markdown",
   "metadata": {},
   "source": [
    "## Load case example\n",
    "\n",
    "We load a test example from the Calgary-Campinas dataset. "
   ]
  },
  {
   "cell_type": "code",
   "execution_count": 3,
   "metadata": {},
   "outputs": [],
   "source": [
    "input_scan = 'example/T1.nii.gz'\n",
    "ground_truth = 'example/gt.nii.gz'\n",
    "output_scan = 'example/parietal_output.nii.gz'input_scan = 'example/T1.nii.gz'\n",
    "ground_truth = 'example/gt.nii.gz'"
   ]
  },
  {
   "cell_type": "code",
   "execution_count": 4,
   "metadata": {},
   "outputs": [
    {
     "name": "stdout",
     "output_type": "stream",
     "text": [
      "expected time  10.773155212402344\n"
     ]
    }
   ],
   "source": [
    "t = time.time()\n",
    "brainmask = b.run(input_scan, output_scan)\n",
    "print('expected time ', time.time() - t)"
   ]
  },
  {
   "cell_type": "code",
   "execution_count": null,
   "metadata": {},
   "outputs": [],
   "source": [
    "t1_scan = ants.image_read(input_scan)\n",
    "brainmask_scan = ants.image_read(output_scan)\n",
    "gt_scan = ants.image_read(ground_truth)\n",
    "\n",
    "ants.plot(t1_scan, \n",
    "          axis=2,\n",
    "          slices=(0.4, 0.5, 0.6, 0.7),\n",
    "          figsize=10, \n",
    "          overlay=brainmask_scan,\n",
    "          overlay_alpha=0.3)\n",
    "\n",
    "ants.plot(gt_scan, \n",
    "          axis=2,\n",
    "          slices=(0.4, 0.5, 0.6, 0.7),\n",
    "          figsize=10, \n",
    "          overlay=brainmask_scan,\n",
    "          overlay_alpha=0.3)"
   ]
  },
  {
   "cell_type": "code",
   "execution_count": null,
   "metadata": {},
   "outputs": [],
   "source": []
  }
 ],
 "metadata": {
  "kernelspec": {
   "display_name": "Python 3",
   "language": "python",
   "name": "python3"
  },
  "language_info": {
   "codemirror_mode": {
    "name": "ipython",
    "version": 3
   },
   "file_extension": ".py",
   "mimetype": "text/x-python",
   "name": "python",
   "nbconvert_exporter": "python",
   "pygments_lexer": "ipython3",
   "version": "3.7.6"
  }
 },
 "nbformat": 4,
 "nbformat_minor": 4
}
